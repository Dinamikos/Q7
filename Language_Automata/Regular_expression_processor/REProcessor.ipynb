{
 "cells": [
  {
   "cell_type": "markdown",
   "id": "f65731f8",
   "metadata": {},
   "source": [
    "# Regular Expression Processor\n",
    "\n",
    "---\n",
    "\n",
    "**Team**\n",
    "\n",
    "1. Juan Manuel Balanzar Vega\n",
    "2. Osiris Camara Salinas\n",
    "3. Isabel Camara Montalvo\n",
    "4. Victor Rodrigo Uribe Hernandez\n",
    "5. Mayte Alejandra Chi Poot"
   ]
  },
  {
   "cell_type": "code",
   "execution_count": null,
   "id": "5f84fa71",
   "metadata": {},
   "outputs": [
    {
     "ename": "",
     "evalue": "",
     "output_type": "error",
     "traceback": [
      "\u001b[1;31mRunning cells with 'Python 3.8.3 32-bit' requires ipykernel package.\n",
      "Run the following command to install 'ipykernel' into the Python environment. \n",
      "Command: 'C:/Users/victo/AppData/Local/Programs/Python/Python38-32/python.exe -m pip install ipykernel -U --user --force-reinstall'"
     ]
    }
   ],
   "source": [
    "#libs\n",
    "import re\n",
    "import pandas as pd"
   ]
  },
  {
   "cell_type": "code",
   "execution_count": null,
   "id": "1606a0a0",
   "metadata": {},
   "outputs": [],
   "source": [
    "#class creation\n",
    "class RegularExpressionProcessor:\n",
    "    '''\n",
    "    manage strings to find, replace and delete matches \n",
    "    in regular expressions\n",
    "    '''\n",
    "\n",
    "    def __init__(self, string):\n",
    "        #This strings needs to be declared when the object is initilized\n",
    "        #the idea is that each time that you access to process, self.string\n",
    "        #is used\n",
    "        self.string = string\n",
    "        #NOTE code with self.string, or use the example below\n",
    "    \n",
    "    def find(self, regex:str, string:str) -> list:\n",
    "        '''\n",
    "        this method return an array with all the matches\n",
    "        of the regular expression in the string passed \n",
    "        as a parameter.\n",
    "        '''\n",
    "        \n",
    "\n",
    "        return re.findall(regex, string)\n",
    "\n",
    "    def replaceS(self, regex:str, string:str, value:str) -> str:\n",
    "        '''\n",
    "        this method recieves a regular expression, find \n",
    "        all the matches in the given string and replace \n",
    "        those matches with the value string\n",
    "        '''\n",
    "        \n",
    "        return re.sub(regex, value, string)\n",
    "\n",
    "    def delete(self, regex:str, string:str) -> str:\n",
    "        '''\n",
    "        this method return a version of the passed string\n",
    "        with all the matches of the regular expression \n",
    "        supressed.\n",
    "        '''\n",
    "\n",
    "        return self.replaceS(regex, string, '')\n",
    "        \n",
    "    def _regexValidation(self, data):\n",
    "        '''\n",
    "        In order to regex, it will check if all conditions\n",
    "        are applied in the data dictionary\n",
    "        '''\n",
    "\n",
    "        if type(data) != list:\n",
    "            print(\"It needs to be a list as: [['delete','this','in this']]\")\n",
    "            return False\n",
    "\n",
    "        for rule in data:\n",
    "            length = len(rule)#4 for replace\n",
    "            opt = rule[0]#['replace','regex','str','value']\n",
    "\n",
    "            if opt == \"delete\" and length == 2:\n",
    "                return True\n",
    "            elif opt == \"replace\" and length == 3:\n",
    "                return True\n",
    "            elif opt == \"find\" and length == 2:\n",
    "                return True\n",
    "\n",
    "        return False\n",
    "\n",
    "    def process(self, data, apply=False):\n",
    "        '''\n",
    "        this method receive a iterable set of strings and\n",
    "        return a version processed with all the regular\n",
    "        expressions applied in order to eahc of them.\n",
    "        '''\n",
    "        #check all the rules\n",
    "        if not self._regexValidation(data):\n",
    "            print(\"your data list is not correct, check it\")\n",
    "            return\n",
    "\n",
    "        aux = self.string\n",
    "\n",
    "        for regex in data:\n",
    "            opt = regex[0] #option replace, delete, find\n",
    "            regularEX = regex[1] # regular expression\n",
    "            if opt == \"replace\":\n",
    "                aux = self.replaceS(regularEX, aux, regex[2])\n",
    "            elif opt == \"find\":\n",
    "                return self.find(regularEX, aux)\n",
    "\n",
    "            elif opt == \"delete\":\n",
    "                aux = self.delete(regularEX, aux)\n",
    "        \n",
    "        if apply:\n",
    "            self.string = aux\n",
    "        else:\n",
    "            return aux"
   ]
  },
  {
   "cell_type": "code",
   "execution_count": null,
   "id": "7fff1d62",
   "metadata": {},
   "outputs": [
    {
     "name": "stdout",
     "output_type": "stream",
     "text": [
      "Hola como estas     hola commo estás\n"
     ]
    }
   ],
   "source": [
    "#testing\n",
    "engine = RegularExpressionProcessor(\"Hola como estas juanaaa@gmail.com osirisaaa@gmail.com victor@gmail.com isaa@gmail.com hola commo estás\")\n",
    "#engine = engine.process([['delete','/\\w+a{3}@gmail\\.com/']])\n",
    "##engine.find('/\\w+a{3}@gmail\\.com/', engine.string)\n",
    "#Osiris hola\n",
    "print(engine.delete('[\\w\\.-]+@[\\w\\.-]+', engine.string))"
   ]
  },
  {
   "cell_type": "markdown",
   "id": "c409e3fe",
   "metadata": {},
   "source": [
    "# Dataset"
   ]
  },
  {
   "cell_type": "code",
   "execution_count": null,
   "id": "3f49617c",
   "metadata": {},
   "outputs": [],
   "source": [
    "df = pd.read_csv(\"test.csv\")"
   ]
  },
  {
   "cell_type": "code",
   "execution_count": null,
   "id": "64ed1fbd",
   "metadata": {},
   "outputs": [],
   "source": [
    "df"
   ]
  },
  {
   "cell_type": "code",
   "execution_count": null,
   "id": "0bbe405b",
   "metadata": {},
   "outputs": [],
   "source": []
  }
 ],
 "metadata": {
  "kernelspec": {
   "display_name": "Python 3",
   "language": "python",
   "name": "python3"
  },
  "language_info": {
   "codemirror_mode": {
    "name": "ipython",
    "version": 3
   },
   "file_extension": ".py",
   "mimetype": "text/x-python",
   "name": "python",
   "nbconvert_exporter": "python",
   "pygments_lexer": "ipython3",
   "version": "3.8.3"
  }
 },
 "nbformat": 4,
 "nbformat_minor": 5
}
