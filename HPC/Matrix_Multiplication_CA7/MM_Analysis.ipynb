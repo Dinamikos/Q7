{
 "cells": [
  {
   "cell_type": "markdown",
   "metadata": {},
   "source": [
    "# Matrix Multiplication Analysis CA7\n",
    "\n",
    "---\n",
    "\n",
    "**Team**\n",
    "\n",
    "1. Juan Manuel Balanzar Vega\n",
    "2. Isabel Camara Montalvo\n",
    "3. Victor Rodrigo Uribe Hernandez\n",
    "4. Osiris Odett Camara Salinas\n",
    "5. Mayte Alejandra Chi Poot"
   ]
  },
  {
   "cell_type": "code",
   "execution_count": null,
   "metadata": {},
   "outputs": [],
   "source": [
    "import numpy as np\n",
    "import pandas as pd\n",
    "import matplotlib.pyplot as plt\n",
    "import math"
   ]
  },
  {
   "cell_type": "markdown",
   "metadata": {},
   "source": [
    "## Block "
   ]
  },
  {
   "cell_type": "code",
   "execution_count": null,
   "metadata": {},
   "outputs": [],
   "source": [
    "##a= \n",
    "p= 9\n",
    "running_time= [0, 0.011583, 0.018937, 0.021660, 0.127554, 15.689012, 0.255933, 0.317461] \n",
    "speedup= [0, 1.275749, 0.305223, 8.060295, 17.218049, 0.109484, 0.714286, 0.428571 ]\n",
    "x=[0,2,3,4,5,6,7,8]"
   ]
  },
  {
   "cell_type": "code",
   "execution_count": null,
   "metadata": {},
   "outputs": [],
   "source": [
    "fig= plt.figure(figsize=(10,5))\n",
    "x= np.arange(1,p,1)\n",
    "plt.plot(x, speedup, 'b.-', label='Speedup')\n",
    "\n",
    "plt.xlabel('No. threads')\n",
    "plt.ylabel('Speedup')\n",
    "plt.grid()\n",
    "plt.title(\"Speedup: Block multiplication\")\n",
    "plt.legend(loc='upper left')\n",
    "plt.show()"
   ]
  },
  {
   "cell_type": "code",
   "execution_count": null,
   "metadata": {},
   "outputs": [],
   "source": [
    "fig= plt.figure(figsize=(10,5))\n",
    "##x= np.arange(1,p,1)\n",
    "plt.plot(x, running_time, 'b.-', label='Running time')\n",
    "\n",
    "plt.xlabel('No. threads')\n",
    "plt.ylabel('Running time')\n",
    "plt.grid()\n",
    "plt.title(\"Running time: Block multiplication\")\n",
    "plt.legend(loc='upper left')\n",
    "plt.show()"
   ]
  }
 ],
 "metadata": {
  "interpreter": {
   "hash": "aee8b7b246df8f9039afb4144a1f6fd8d2ca17a180786b69acc140d282b71a49"
  },
  "kernelspec": {
   "display_name": "Python 3.9.10 64-bit",
   "language": "python",
   "name": "python3"
  },
  "language_info": {
   "name": "python",
   "version": "3.9.10"
  },
  "orig_nbformat": 4
 },
 "nbformat": 4,
 "nbformat_minor": 2
}
